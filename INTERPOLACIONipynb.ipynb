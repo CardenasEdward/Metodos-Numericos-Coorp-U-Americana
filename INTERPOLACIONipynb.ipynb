{
  "nbformat": 4,
  "nbformat_minor": 0,
  "metadata": {
    "colab": {
      "name": "INTERPOLACIONipynb",
      "provenance": [],
      "authorship_tag": "ABX9TyOHF5jKe6PnyQmjirywsWQ3",
      "include_colab_link": true
    },
    "kernelspec": {
      "name": "python3",
      "display_name": "Python 3"
    }
  },
  "cells": [
    {
      "cell_type": "markdown",
      "metadata": {
        "id": "view-in-github",
        "colab_type": "text"
      },
      "source": [
        "<a href=\"https://colab.research.google.com/github/CardenasEdward/Metodos-Numericos-Coorp-U-Americana/blob/master/INTERPOLACIONipynb.ipynb\" target=\"_parent\"><img src=\"https://colab.research.google.com/assets/colab-badge.svg\" alt=\"Open In Colab\"/></a>"
      ]
    },
    {
      "cell_type": "markdown",
      "metadata": {
        "id": "aSN0r5VsZFhS",
        "colab_type": "text"
      },
      "source": [
        "METODO INTERPOLACION "
      ]
    },
    {
      "cell_type": "code",
      "metadata": {
        "id": "SSDWTu7seg6i",
        "colab_type": "code",
        "colab": {}
      },
      "source": [
        "print (\"------- Interpolacion Polinomica -------\")\n",
        "n = int(input(\"Ingrese el grado del polinomio a evaluar: \"))+1\n",
        "\n",
        "# print \"El grado del polinomio es: \", n\n",
        "\n",
        "matriz = [0.0] * n\n",
        "for i in range(n):\n",
        "    matriz[i] = [0.0] * n\n",
        "\n",
        "vector = [0.0] * n\n",
        "\n",
        "print  (\"matriz\")\n",
        "print (\"vector\")\n",
        "for i in range(n):\n",
        "    x = input(\"Ingrese el valor de x: \")\n",
        "    y = input(\"Ingrese el valor de f(\"+x+\"): \")\n",
        "    vector[i]=float(x)\n",
        "    matriz[i][0]=float(y)\n",
        "\n",
        "print (\"vector\")    \n",
        "print  (\"matriz\")\n",
        "\n",
        "punto_a_evaluar = float(input(\"Ingrese el punto a evaluar: \"))\n",
        "\n",
        "\n",
        "\n",
        "for i in range(1,n):\n",
        "    for j in range(i,n):\n",
        "        print (\"i j\")\n",
        "        print \"(\",matriz[j][i-1],\"-\",matriz[j-1][i-1],\")/(\",vector[j],\"-\",vector[j-i],\")\"\n",
        "        matriz[j][i] = ( (matriz[j][i-1]-matriz[j-1][i-1]) / (vector[j]-vector[j-i]))\n",
        "        print \"matriz[\",j,\"][\",i,\"] = \",(matriz[j][i-1]-matriz[j-1][i-1])/(vector[j]-vector[j-i])\n",
        "\n",
        "\n",
        "for i in range(n):\n",
        "    print matriz[i]\n",
        "\n",
        "\n",
        "aprx = 0\n",
        "mul = 1.0\n",
        "for i in range(n):\n",
        "    print \"matriz[\",i,\"][\",i,\"]\",\"=\",matriz[i][i]\n",
        "    mul = matriz[i][i];\n",
        "    print \"mul antes del ciclo j=\",mul\n",
        "    for j in range(1,i+1):\n",
        "        mul = mul * (punto_a_evaluar - vector[j-1])\n",
        "        print \"mul en el ciclo j=\",mul\n",
        "    # print aprx\n",
        "    aprx = aprx + mul\n",
        "\n",
        "print (\"El valor aproximado de f(\",punto_a_evaluar,\") es: \"), aprx"
      ],
      "execution_count": 0,
      "outputs": []
    }
  ]
}