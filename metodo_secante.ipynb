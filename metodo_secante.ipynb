{
  "nbformat": 4,
  "nbformat_minor": 0,
  "metadata": {
    "colab": {
      "name": "metodo secante.ipynb",
      "provenance": [],
      "authorship_tag": "ABX9TyMvVhNZMQipnxLc5Z/j24In",
      "include_colab_link": true
    },
    "kernelspec": {
      "name": "python3",
      "display_name": "Python 3"
    }
  },
  "cells": [
    {
      "cell_type": "markdown",
      "metadata": {
        "id": "view-in-github",
        "colab_type": "text"
      },
      "source": [
        "<a href=\"https://colab.research.google.com/github/CardenasEdward/Metodos-Numericos-Coorp-U-Americana/blob/master/metodo_secante.ipynb\" target=\"_parent\"><img src=\"https://colab.research.google.com/assets/colab-badge.svg\" alt=\"Open In Colab\"/></a>"
      ]
    },
    {
      "cell_type": "markdown",
      "metadata": {
        "id": "blcfXCbT1i2C",
        "colab_type": "text"
      },
      "source": [
        "METODO SECANTE"
      ]
    },
    {
      "cell_type": "code",
      "metadata": {
        "id": "Wfs9iHH41Y3_",
        "colab_type": "code",
        "colab": {}
      },
      "source": [
        "''' Metodo de la Secante para encontar la raiz de una funcion\n",
        "    x= x1-f(x1)*(x1-x0)/(f(x1)-f(x0)). Entrada de datos: xo, x1,\n",
        "    tolerancia,numero de iteraciones maximo y funcion\n",
        "'''    \n",
        "def Secante(x0,x1,tol,N,f):\n",
        "\n",
        "    print(0,x0,x1)\n",
        "    i=1\n",
        "    \n",
        "    while i<=N:\n",
        "        x= x1 - (x1-x0)*f(x1)/(f(x1)-f(x0))  \n",
        "\n",
        "        print(i,x)\n",
        "        if abs(x-x1)<tol:\n",
        "            return x\n",
        "        i=i + 1\n",
        "        x0=x1    # redefinir x0\n",
        "        x1=x     #redefinir x1\n",
        "\n",
        "    print('El metodo fracaso despues de %d iteraciones' %N)\n",
        "    \n",
        "import math     #just in case\n",
        "    \n",
        "    # Datos para corrida de ejemplo\n",
        "    \n",
        "f=lambda x: x**3 + 4*x**2 - 10\n",
        "x0=1\n",
        "x1=2\n",
        "tol=0.0001\n",
        "N=20\n",
        "    \n",
        "x=Secante(x0,x1,tol,N,f)\n",
        "print()\n",
        "print('La solucion es: ',x)"
      ],
      "execution_count": 0,
      "outputs": []
    }
  ]
}