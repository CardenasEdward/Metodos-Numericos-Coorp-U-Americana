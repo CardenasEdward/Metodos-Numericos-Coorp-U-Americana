{
  "nbformat": 4,
  "nbformat_minor": 0,
  "metadata": {
    "colab": {
      "name": "Untitled0.ipynb",
      "provenance": [],
      "authorship_tag": "ABX9TyORAYe9i162bnNAGVw4P2eu",
      "include_colab_link": true
    },
    "kernelspec": {
      "name": "python3",
      "display_name": "Python 3"
    }
  },
  "cells": [
    {
      "cell_type": "markdown",
      "metadata": {
        "id": "view-in-github",
        "colab_type": "text"
      },
      "source": [
        "<a href=\"https://colab.research.google.com/github/CardenasEdward/Metodos-Numericos-Coorp-U-Americana/blob/master/METODO%20RAPHSON.ipynb\" target=\"_parent\"><img src=\"https://colab.research.google.com/assets/colab-badge.svg\" alt=\"Open In Colab\"/></a>"
      ]
    },
    {
      "cell_type": "markdown",
      "metadata": {
        "id": "WR21rkew17y0",
        "colab_type": "text"
      },
      "source": [
        "METODO RAPHSON"
      ]
    },
    {
      "cell_type": "code",
      "metadata": {
        "id": "aG3djpp016IF",
        "colab_type": "code",
        "colab": {}
      },
      "source": [
        "#!/usr/bin/python\n",
        " # coding: latin-1\n",
        " \n",
        "import Evaluar\n",
        " from pylab import *\n",
        " from Numeric import *\n",
        " \n",
        "def newton(df, po, TOL, N):\n",
        " \n",
        "i = 1\n",
        " vectorx = zeros(N, Float64)\n",
        " vectory = zeros(N, Float64)\n",
        " \n",
        "while i&lt;=N:\n",
        " \n",
        "vectorx[i-1] = po\n",
        " Evaluar.dicc_seguro['x'] = po\n",
        " f  = eval(Evaluar.funcion, {&quot;__builtins__&quot;:None}, Evaluar.dicc_seguro)\n",
        " df_val = eval(df, {&quot;__builtins__&quot;:None}, Evaluar.dicc_seguro)\n",
        " \n",
        "vectory[i-1] = f\n",
        " \n",
        "if df_val == 0.0:\n",
        " print &quot;La evaluacion de la derivada de la funcion dio 0&quot;\n",
        " break\n",
        " \n",
        "p1 = po - (f/df_val)\n",
        " \n",
        "if fabs(po-p1) &lt; TOL:\n",
        " print &quot;La raiz buscada es: &quot;,po, &quot;con&quot;, i-1,&quot;iteraciones&quot;\n",
        " break\n",
        " \n",
        "i += 1\n",
        " po = p1\n",
        " \n",
        "return [vectorx, vectory]\n",
        " \n",
        "def dibujar(df, po, TOL, N):\n",
        " \n",
        "x = arange(po-2,po+2,0.1)\n",
        " vectores = newton(df, po, TOL, N)\n",
        " \n",
        "subplot(211)\n",
        " plot(x, eval(Evaluar.funcion), linewidth=1.0)\n",
        " xlabel('Abcisa')\n",
        " ylabel('Ordenada')\n",
        " title('Metodo Newton con f(x)=' + Evaluar.funcion)\n",
        " grid(True)\n",
        " axhline(linewidth=1, color='r')\n",
        " axvline(linewidth=1, color='r')\n",
        " \n",
        "subplot(212)\n",
        " plot(vectores[0], vectores[1], 'k.')\n",
        " xlabel('Abcisa')\n",
        " ylabel('Ordenada')\n",
        " grid(True)\n",
        " axhline(linewidth=1, color='r')\n",
        " axvline(linewidth=1, color='r')\n",
        " \n",
        "show()"
      ],
      "execution_count": 0,
      "outputs": []
    }
  ]
}