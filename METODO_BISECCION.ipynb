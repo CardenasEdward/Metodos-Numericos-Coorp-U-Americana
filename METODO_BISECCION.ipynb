{
  "nbformat": 4,
  "nbformat_minor": 0,
  "metadata": {
    "colab": {
      "name": "METODO BISECCION.ipynb",
      "provenance": [],
      "authorship_tag": "ABX9TyMDPy+PAsf63JEFNAfE++w4",
      "include_colab_link": true
    },
    "kernelspec": {
      "name": "python3",
      "display_name": "Python 3"
    }
  },
  "cells": [
    {
      "cell_type": "markdown",
      "metadata": {
        "id": "view-in-github",
        "colab_type": "text"
      },
      "source": [
        "<a href=\"https://colab.research.google.com/github/CardenasEdward/Metodos-Numericos-Coorp-U-Americana/blob/master/METODO_BISECCION.ipynb\" target=\"_parent\"><img src=\"https://colab.research.google.com/assets/colab-badge.svg\" alt=\"Open In Colab\"/></a>"
      ]
    },
    {
      "cell_type": "markdown",
      "metadata": {
        "id": "2R_EZof-yGH9",
        "colab_type": "text"
      },
      "source": [
        "METODO BISECCION"
      ]
    },
    {
      "cell_type": "code",
      "metadata": {
        "id": "cCFX0Wh-0rQ5",
        "colab_type": "code",
        "colab": {
          "base_uri": "https://localhost:8080/",
          "height": 51
        },
        "outputId": "81c1307b-f176-4ec3-89b7-4f12e4cda4c1"
      },
      "source": [
        "def biseccion(f, a, b, tol=1.e-6):\n",
        "    \"\"\"\n",
        "    Funcion que implenta el metodo de biseccion usando\n",
        "    la instruccion while para encontrar raices reales de\n",
        "    una funcion. \n",
        "      f: es la funcion a la cual se le determina alguna raiz\n",
        "      a: valor menor del interval\n",
        "      b: valor mayor del intervalo\n",
        "    tol: es la tolerancia\n",
        " \n",
        "    \"\"\"\n",
        "    fa = f(a)\n",
        "    if fa*f(b) > 0:\n",
        "        return None, None, None\n",
        "\n",
        "    c = (a + b)*0.5\n",
        "    fmed = f(c)\n",
        "    i = 0\n",
        "    while abs(b-a) > tol:\n",
        "\n",
        "        if fa*fmed <= 0:\n",
        "            b = c  # La raiz esta en el intervalo [a,c]\n",
        "        else:\n",
        "            a = c  # La raiz esta en el intervalo [c,b]\n",
        "            fa = fmed\n",
        "\n",
        "        c = (a + b)*0.5\n",
        "        fmed = f(c)\n",
        "        i = i + 1\n",
        "\n",
        "    return i, c, fmed\n",
        "def f(x):\n",
        "    \"\"\"\n",
        "    Define la funcion para la cual queremos encontrar alguna raiz\n",
        "    \"\"\"\n",
        "    return (x**2 + 4.0*x - 4.0)   # usar (-6,-4)\n",
        "\n",
        "tol = 1e-10\n",
        "a, b = -6, -4 # para raiz en la grafica\n",
        "iter, x, fx = biseccion(f, a, b, tol)\n",
        "if x is None:\n",
        "    print('\\t f(x) NO cambia signo en el intervalo [{0:g},{1:g}]'.format(a, b))\n",
        "else:\n",
        "    print('\\t En {0:d} iteraciones y con tolerancia de {1:g} la raiz es:'\n",
        "                                                          .format(iter,tol)) \n",
        "    print('\\t x = {0:g}, generando f({0:g}) = {1:g}'.format(x,fx))"
      ],
      "execution_count": 6,
      "outputs": [
        {
          "output_type": "stream",
          "text": [
            "\t En 35 iteraciones y con tolerancia de 1e-10 la raiz es:\n",
            "\t x = -4.82843, generando f(-4.82843) = -3.84581e-11\n"
          ],
          "name": "stdout"
        }
      ]
    }
  ]
}